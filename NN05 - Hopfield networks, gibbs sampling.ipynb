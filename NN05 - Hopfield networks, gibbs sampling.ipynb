{
 "cells": [
  {
   "cell_type": "markdown",
   "metadata": {},
   "source": [
    "# NN05 - Hopefield networks\n",
    "\n",
    "In this notebook: \n",
    "- hebbian learning and Hebb's rule\n",
    "- associative and auto-associative networks\n",
    "- hopfield networks\n",
    "\n",
    "\n",
    "## Hebbian Learning \n",
    "Hebb's postulate states that... \n",
    "\"*When an axon of cell A is near enough to excite a cell B and repeatedly or persistently takes part in firing it, some growth process or metabolic change takes place in one or both cells such that A's efficiency, as one of the cells firing B, is increased.\" \n",
    "\n",
    "**Hebb's rule**: If two neurons on either side of a synapse are activated simultaneously, increase the weight of the synapse. Otherwise, decrease the weight. \n",
    "<img src=\"hebb.png\",width=200,height=200>\n",
    "\n",
    "Thus, a good candidate learning rule for neurons with bipolar activation is: \n",
    "<img src=\"hebb2.png\",width=200,height=200>\n",
    "\n",
    "## Hopfield networks\n",
    "A hopfield network is a single-layer recurrent network (with feedback). Each neuron is a perceptron with sign(x) activation function. It's a symmetrical network, therefore W<sub>ij</sub> = W<sub>ji</sub>. \n",
    "\n",
    "**A hopfield network uses Hebb's rule for learning.** At each time *t*, each neuron *i* has activation A<sub>i</sub>(t) = 1 or -1. Selecting neuron *i* to calculate its new activation value at t+1: \n",
    "<img src=\"hopfield.png\",width=200,height=200>\n",
    "- *sign(x) = 1 if x > 0*\n",
    "- *sign(x) = -1 if x < 0 *\n",
    "- *sign(x) = A<sub>i</sub>(t) if x = 0*\n",
    "\n",
    "#### Two phases of Hopfield Networks (as associative memory): \n",
    "1. Storage phase: \n",
    "    - to store M N-dimensional vectors ε<sub>µ</sub>\n",
    "    - let ε<sub>µi</sub> denote the i-th element of ε<sub>µ</sub>\n",
    "    - this is also called one-shot learning. \n",
    "<img src=\"osl.png\",width=200,height=200>\n",
    "\n",
    "2. Retrieval phase: \n",
    "    - An n-dimensional vector of ε<sub>p</sub> is imposed on the network; \n",
    "    - At each time *t*, a neuron *i* is selected and its activation state is updated to A<sub>i</sub>(t+1) immediately before another neuron is selected. \n",
    "    -Neurons are selected in order until a time invariant vector of activations (stable state) ε<sub>S</sub> is found, i.e. until A<sub>i</sub>(t+1) = A<sub>i</sub>(t) for all neurons in the network. \n",
    "<img src=\"energy.png\",width=400,height=400>\n",
    "\n",
    "\n",
    "#### State transition tables\n",
    "https://www.inf.ed.ac.uk/teaching/courses/nlu/assets/reading/Gurney_et_al.pdf\n"
   ]
  }
 ],
 "metadata": {
  "kernelspec": {
   "display_name": "Python 3",
   "language": "python",
   "name": "python3"
  },
  "language_info": {
   "codemirror_mode": {
    "name": "ipython",
    "version": 3
   },
   "file_extension": ".py",
   "mimetype": "text/x-python",
   "name": "python",
   "nbconvert_exporter": "python",
   "pygments_lexer": "ipython3",
   "version": "3.6.0"
  }
 },
 "nbformat": 4,
 "nbformat_minor": 2
}
