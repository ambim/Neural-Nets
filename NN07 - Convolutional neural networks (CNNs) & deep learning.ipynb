{
 "cells": [
  {
   "cell_type": "markdown",
   "metadata": {},
   "source": [
    "# NN07 - Convolutional neural networks (CNNs) & deep learning\n",
    "\n",
    "In this notebook: \n",
    "- Sigmoid belief nets (rev3) \n",
    "- deep belief nets \n",
    "- CNNs \n",
    "- deep learning\n",
    "\n",
    "\n",
    "## Convolutional neural networks\n",
    "- Inspired by the visual cortex: multiple layers with overlapping patches of neurons mapped onto feature maps. \n",
    "- Very successful at image and video recognition. \n",
    "- Seeks to achieve translation (shift), rotation, size and illumination invariance... \n",
    "- Convolution + subsampling steps followed by single-hidden layer classifier trained with backprop. \n",
    "- Overlapping input neuron areas with weight sharing. \n",
    "- Produces an activation map (similar to SOM) for each filter (set of weights). \n",
    "\n",
    "The activation map is then reduced (subsampling) by partitioning it into a set of new non-overlapping areas, and keeping only the neuron with the highest activation value in each area (max pooling). \n",
    "\n",
    "#### Advantages + disadvantages of a CNN: \n",
    "- (+) make assumption of locality (normally with images), successful in extracting relevant information from *local spatial coherence* of the input. \n",
    "- (-) can be non-trivial to train and optimise hyper-parameters. \n",
    "- (-) traditional implementations are not invariant to rotation or scale. \n",
    "\n",
    "#### Overview \n",
    "(ref: http://ufldl.stanford.edu/tutorial/supervised/ConvolutionalNeuralNetwork/) \n",
    "A Convolutional Neural Network (CNN) is comprised of one or more convolutional layers (often with a subsampling step) and then followed by one or more fully connected layers as in a standard multilayer neural network. The architecture of a CNN is designed to take advantage of the 2D structure of an input image (or other 2D input such as a speech signal). This is achieved with local connections and tied weights followed by some form of pooling which results in translation invariant features. Another benefit of CNNs is that they are easier to train and have many fewer parameters than fully connected networks with the same number of hidden units. \n",
    "\n",
    "#### Architecture\n",
    "A CNN consists of a number of convolutional and subsampling layers optionally followed by fully connected layers. The input to a convolutional layer is a *m* x *m* x *r* image where *m* is the height and width of the image and *r* is the number of channels, e.g. an RGB image has *r=3*. The convolutional layer will have *k* filters (or kernels) of size *n* x *n* x *q* where *n* is smaller than the dimension of the image and *q* can either be the same as the number of channels *r* or smaller and may vary for each kernel. The size of the filters gives rise to the locally connected structure which are each convolved with the image to produce *k* feature maps of size *m*−*n*+*1*. Each map is then subsampled typically with mean or max pooling over *p* x *p* contiguous regions where p ranges between 2 for small images (e.g. MNIST) and is usually not more than 5 for larger inputs. Either before or after the subsampling layer an additive bias and sigmoidal nonlinearity is applied to each feature map. The figure below illustrates a full layer in a CNN consisting of convolutional and subsampling sublayers. Units of the same color have tied weights.\n",
    "<img src=\"cnn.png\",width=400,height=400>\n"
   ]
  },
  {
   "cell_type": "code",
   "execution_count": null,
   "metadata": {
    "collapsed": true
   },
   "outputs": [],
   "source": []
  }
 ],
 "metadata": {
  "kernelspec": {
   "display_name": "Python 3",
   "language": "python",
   "name": "python3"
  },
  "language_info": {
   "codemirror_mode": {
    "name": "ipython",
    "version": 3
   },
   "file_extension": ".py",
   "mimetype": "text/x-python",
   "name": "python",
   "nbconvert_exporter": "python",
   "pygments_lexer": "ipython3",
   "version": "3.6.0"
  }
 },
 "nbformat": 4,
 "nbformat_minor": 2
}
