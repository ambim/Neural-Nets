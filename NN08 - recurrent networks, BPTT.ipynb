{
 "cells": [
  {
   "cell_type": "markdown",
   "metadata": {},
   "source": [
    "# NN08 - recurrent networks, BPTT\n",
    "\n",
    "In this notebook: \n",
    "- recurrent networks\n",
    "- backpropagation through time (BPTT) \n",
    "- time-series models\n",
    "- sequence models\n",
    "\n",
    "\n",
    "## Re-current networks\n",
    "\n",
    "<img src=\"rnn.png\",width=300,height=300>\n",
    "Examples include: Hopfield, Boltzmann, Echo-state, Long-short term memory(LSTMs), Nonlinear AutoRegressive network with eXogenous inputs (NARX), Elman and Jordan networks etc. \n",
    "\n",
    "Can be trained by standard backprop and variations e.g. input/ output vectors are mapped to input+context/output (possibly using a sliding window approach)...\n",
    "\n",
    "\n",
    "#### Backprop. through time (BPTT) \n",
    "Given data  sequence x with target values t: (x<sub>0</sub>,t<sub>0</sub>),(x<sub>1</sub>,t<sub>1</sub>),(x<sub>2</sub>,t<sub>2</sub>)...\n",
    "Unfold a recurrent network through time (e.g. k=3 below) \n",
    "\n",
    "<img src=\"bptt.png\",width=400,height=400>\n",
    "\n",
    "- Train unfolded net with backprop. but in order, i.e. obtaining o<sub>0</sub>, o<sub>1</sub>, o<sub>2</sub>...\n",
    "- s<sub>0</sub> is normally a vector of zeros\n",
    "- Each training example is of the form (s<sub>t-1</sub>, x<sub>t</sub>, s<sub>t</sub>, x<sub>t+1</sub>, s<sub>t+1</sub>, x<sub>t+2</sub>, t<sub>t+2</sub>)\n",
    "- typically use online learning\n",
    "- after each example, average the weights to get the same U, V, W. \n",
    "\n"
   ]
  },
  {
   "cell_type": "code",
   "execution_count": null,
   "metadata": {
    "collapsed": true
   },
   "outputs": [],
   "source": [
    "\n",
    "\n"
   ]
  },
  {
   "cell_type": "code",
   "execution_count": null,
   "metadata": {
    "collapsed": true
   },
   "outputs": [],
   "source": []
  }
 ],
 "metadata": {
  "kernelspec": {
   "display_name": "Python 3",
   "language": "python",
   "name": "python3"
  },
  "language_info": {
   "codemirror_mode": {
    "name": "ipython",
    "version": 3
   },
   "file_extension": ".py",
   "mimetype": "text/x-python",
   "name": "python",
   "nbconvert_exporter": "python",
   "pygments_lexer": "ipython3",
   "version": "3.6.0"
  }
 },
 "nbformat": 4,
 "nbformat_minor": 2
}
